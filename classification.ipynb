{
 "cells": [
  {
   "cell_type": "markdown",
   "metadata": {
    "_cell_guid": "ae2f416b-1b1b-e0db-983e-fac33bf0585a"
   },
   "source": [
    "Importing required libraries"
   ]
  },
  {
   "cell_type": "code",
   "execution_count": null,
   "metadata": {
    "_cell_guid": "13b286d3-7e90-af18-b5c7-dccac828379a"
   },
   "outputs": [],
   "source": [
    "import numpy as np\n",
    "import pandas as pd\n",
    "import string\n",
    "from nltk.stem import SnowballStemmer\n",
    "from nltk.corpus import stopwords\n",
    "from sklearn.feature_extraction.text import TfidfVectorizer\n",
    "from sklearn.model_selection import train_test_split\n"
   ]
  },
  {
   "cell_type": "markdown",
   "metadata": {
    "_cell_guid": "15a03b74-f205-e62a-b020-42dcc7559746"
   },
   "source": [
    "Preprocessing"
   ]
  },
  {
   "cell_type": "code",
   "execution_count": null,
   "metadata": {
    "_cell_guid": "bc66f601-c38e-5129-22a3-286ce88f4b6f"
   },
   "outputs": [],
   "source": [
    "sms = pd.read_csv('../input/spam.csv', encoding='latin-1')\n",
    "sms = sms.drop(['Unnamed: 2','Unnamed: 3','Unnamed: 4'],axis=1)\n",
    "sms = sms.rename(columns = {'v1':'label','v2':'message'})"
   ]
  },
  {
   "cell_type": "markdown",
   "metadata": {
    "_cell_guid": "09522fa0-3e7a-95a8-5b19-0143af178532"
   },
   "source": [
    "Clean stem and vectorize our features:"
   ]
  },
  {
   "cell_type": "code",
   "execution_count": null,
   "metadata": {
    "_cell_guid": "a73690c1-32a1-24ed-cfe8-dc752c9e88c6"
   },
   "outputs": [],
   "source": [
    "def text_process(text):\n",
    "    \n",
    "    text = text.translate(str.maketrans('', '', string.punctuation))\n",
    "    text = [word for word in text.split() if word.lower() not in stopwords.words('english')]\n",
    "    words = \"\"\n",
    "    for i in text:\n",
    "            stemmer = SnowballStemmer(\"english\")\n",
    "            words += (stemmer.stem(i))+\" \"\n",
    "    return words"
   ]
  },
  {
   "cell_type": "code",
   "execution_count": null,
   "metadata": {
    "_cell_guid": "4ff0bb18-fcc6-b184-88ae-197a561fba58"
   },
   "outputs": [],
   "source": [
    "text_feat = sms['message'].copy()\n",
    "text_feat = text_feat.apply(text_process)\n",
    "vectorizer = TfidfVectorizer(\"english\")\n",
    "features = vectorizer.fit_transform(text_feat)"
   ]
  },
  {
   "cell_type": "markdown",
   "metadata": {
    "_cell_guid": "95d0d1c2-9a67-9b64-fc28-ff12f8705212"
   },
   "source": [
    "Now split for fitting and testing our Classifiers:"
   ]
  },
  {
   "cell_type": "code",
   "execution_count": null,
   "metadata": {
    "_cell_guid": "71af534a-b30a-c5d9-fece-dbb80f03220d"
   },
   "outputs": [],
   "source": [
    "features_train, features_test, labels_train, labels_test = train_test_split(features, sms['label'], test_size=0.3, random_state=111)"
   ]
  },
  {
   "cell_type": "markdown",
   "metadata": {
    "_cell_guid": "bbe21020-02d9-8523-1c34-e71c885e71e0"
   },
   "source": [
    "And import metrics and classifiers:"
   ]
  },
  {
   "cell_type": "code",
   "execution_count": null,
   "metadata": {
    "_cell_guid": "3cb88aef-ff68-69eb-8abf-ee7716c5423c"
   },
   "outputs": [],
   "source": [
    "from sklearn.metrics import accuracy_score\n",
    "from sklearn.svm import SVC\n",
    "from sklearn.neighbors import KNeighborsClassifier\n",
    "from sklearn.naive_bayes import MultinomialNB\n",
    "from sklearn.tree import DecisionTreeClassifier\n",
    "from sklearn.linear_model import LogisticRegression"
   ]
  },
  {
   "cell_type": "markdown",
   "metadata": {
    "_cell_guid": "8cbe470e-e853-cd23-7cbb-e6669cedd860"
   },
   "source": [
    "### Support VectorClassifier"
   ]
  },
  {
   "cell_type": "markdown",
   "metadata": {
    "_cell_guid": "637efdba-8b0d-e16d-509a-9474a9cf36d7"
   },
   "source": [
    "Test kernel and Gamma options"
   ]
  },
  {
   "cell_type": "code",
   "execution_count": null,
   "metadata": {
    "_cell_guid": "5ef6d5e3-476d-8ff3-0c18-540f270d2f73"
   },
   "outputs": [],
   "source": [
    "pred_scores = []\n",
    "krnl = {'rbf' : 'rbf','polynominal' : 'poly', 'sigmoid': 'sigmoid'}\n",
    "for k,v in krnl.items():\n",
    "    for i in np.linspace(0.05, 1, num=20):\n",
    "        svc = SVC(kernel=v, gamma=i)\n",
    "        svc.fit(features_train, labels_train)\n",
    "        pred = svc.predict(features_test)\n",
    "        pred_scores.append((k, [i, accuracy_score(labels_test,pred)]))"
   ]
  },
  {
   "cell_type": "code",
   "execution_count": null,
   "metadata": {
    "_cell_guid": "d6bedd5c-190e-008e-913c-495f7e3d59df"
   },
   "outputs": [],
   "source": [
    "df = pd.DataFrame.from_items(pred_scores,orient='index', columns=['Gamma','Score'])\n",
    "df['Score'].plot(kind='line', figsize=(11,6), ylim=(0.8,1.0))"
   ]
  },
  {
   "cell_type": "code",
   "execution_count": null,
   "metadata": {
    "_cell_guid": "700f81f1-ef0b-7d1d-c34e-5ef76ee446b2"
   },
   "outputs": [],
   "source": [
    "df[df['Score'] == df['Score'].max()]"
   ]
  },
  {
   "cell_type": "markdown",
   "metadata": {
    "_cell_guid": "f2249bbc-29a4-6e06-c9b3-e07ee35a98ac"
   },
   "source": [
    "### K-Neighbours Classifier"
   ]
  },
  {
   "cell_type": "code",
   "execution_count": null,
   "metadata": {
    "_cell_guid": "b36e7f55-a89d-70c7-4cb1-d7e81a6c9c30"
   },
   "outputs": [],
   "source": [
    "pred_scores = []\n",
    "for i in range(3,61):\n",
    "    knc = KNeighborsClassifier(n_neighbors=i)\n",
    "    knc.fit(features_train, labels_train)\n",
    "    pred = knc.predict(features_test)\n",
    "    pred_scores.append((i, [accuracy_score(labels_test,pred)]))\n",
    "df = pd.DataFrame.from_items(pred_scores,orient='index', columns=['Score'])\n",
    "df.plot(figsize=(11,6))"
   ]
  },
  {
   "cell_type": "code",
   "execution_count": null,
   "metadata": {
    "_cell_guid": "f76c7a68-ed96-afc7-a871-fdc0786b6d80"
   },
   "outputs": [],
   "source": [
    "df[df['Score'] == df['Score'].max()]"
   ]
  },
  {
   "cell_type": "markdown",
   "metadata": {
    "_cell_guid": "f463a658-68ba-29e3-cf35-251e79a8e41c"
   },
   "source": [
    "### Multinominal NaiveBayes Classifier"
   ]
  },
  {
   "cell_type": "code",
   "execution_count": null,
   "metadata": {
    "_cell_guid": "7d5517de-0016-4816-0f89-78b65ccff978"
   },
   "outputs": [],
   "source": [
    "pred_scores = []\n",
    "for i in np.linspace(0.05, 1, num=20):\n",
    "    mnb = MultinomialNB(alpha=i)\n",
    "    mnb.fit(features_train, labels_train)\n",
    "    pred = mnb.predict(features_test)\n",
    "    pred_scores.append((i, [accuracy_score(labels_test,pred)]))\n",
    "df = pd.DataFrame.from_items(pred_scores,orient='index', columns=['Score'])\n",
    "df.plot(figsize=(11,6))"
   ]
  },
  {
   "cell_type": "code",
   "execution_count": null,
   "metadata": {
    "_cell_guid": "450a2ea1-b1ed-df87-53bd-2318885acae4"
   },
   "outputs": [],
   "source": [
    "df[df['Score'] == df['Score'].max()]"
   ]
  },
  {
   "cell_type": "markdown",
   "metadata": {
    "_cell_guid": "23a30350-b04b-c778-0dd7-1b185eb03f39"
   },
   "source": [
    "### DecisionTree Classifier"
   ]
  },
  {
   "cell_type": "code",
   "execution_count": null,
   "metadata": {
    "_cell_guid": "f34395e3-3f62-4467-210d-fa20321f874a"
   },
   "outputs": [],
   "source": [
    "pred_scores = []\n",
    "for i in range(2,21):\n",
    "    dtc = DecisionTreeClassifier(min_samples_split=i, random_state=111)\n",
    "    dtc.fit(features_train, labels_train)\n",
    "    pred = dtc.predict(features_test)\n",
    "    pred_scores.append((i, [accuracy_score(labels_test,pred)]))\n",
    "df = pd.DataFrame.from_items(pred_scores,orient='index', columns=['Score'])\n",
    "df.plot(figsize=(11,6))"
   ]
  },
  {
   "cell_type": "code",
   "execution_count": null,
   "metadata": {
    "_cell_guid": "690501e0-e856-485b-6a3f-77e50acd5ffd"
   },
   "outputs": [],
   "source": [
    "df[df['Score'] == df['Score'].max()]"
   ]
  },
  {
   "cell_type": "markdown",
   "metadata": {
    "_cell_guid": "17ad096c-4908-6a70-965b-7886b47a33b6"
   },
   "source": [
    "### LogisticRegression"
   ]
  },
  {
   "cell_type": "code",
   "execution_count": null,
   "metadata": {
    "_cell_guid": "86ef1287-ce87-74fd-fe3e-5c5298965130"
   },
   "outputs": [],
   "source": [
    "slvr = {'newton-cg' : 'newton-cg', 'lbfgs': 'lbfgs', 'liblinear': 'liblinear', 'sag': 'sag'}\n",
    "pred_scores = []\n",
    "for k,v in slvr.items():\n",
    "    lrc = LogisticRegression(solver=v, penalty='l2')\n",
    "    lrc.fit(features_train, labels_train)\n",
    "    pred = lrc.predict(features_test)\n",
    "    pred_scores.append((k, [accuracy_score(labels_test,pred)]))\n",
    "df = pd.DataFrame.from_items(pred_scores,orient='index', columns=['Score'])\n",
    "df.plot(figsize=(11,6))"
   ]
  },
  {
   "cell_type": "code",
   "execution_count": null,
   "metadata": {
    "_cell_guid": "0ed4f43c-4f33-59f5-5e2a-a8a8a5ee38a6"
   },
   "outputs": [],
   "source": [
    "df[df['Score'] == df['Score'].max()]"
   ]
  },
  {
   "cell_type": "code",
   "execution_count": null,
   "metadata": {
    "_cell_guid": "032c0925-a575-cb32-6ae6-7cdd368c5c44"
   },
   "outputs": [],
   "source": [
    "pred_scores = []\n",
    "lrc = LogisticRegression(solver='liblinear', penalty='l1')\n",
    "lrc.fit(features_train, labels_train)\n",
    "pred = lrc.predict(features_test)\n",
    "print(accuracy_score(labels_test,pred))"
   ]
  },
  {
   "cell_type": "markdown",
   "metadata": {
    "_cell_guid": "a2de8d16-9e86-0f03-0b27-2ceee936a794"
   },
   "source": [
    "## Ensemble classifiers"
   ]
  },
  {
   "cell_type": "code",
   "execution_count": null,
   "metadata": {
    "_cell_guid": "1871ff17-9c85-bf1a-2fc8-0d952b4e5ca6"
   },
   "outputs": [],
   "source": [
    "from sklearn.ensemble import RandomForestClassifier\n",
    "from sklearn.ensemble import AdaBoostClassifier\n",
    "from sklearn.ensemble import BaggingClassifier\n",
    "from sklearn.ensemble import ExtraTreesClassifier"
   ]
  },
  {
   "cell_type": "markdown",
   "metadata": {
    "_cell_guid": "cb9087d6-05a1-76d9-c540-28e96ed63cda"
   },
   "source": [
    "### RandomForest Classifier"
   ]
  },
  {
   "cell_type": "code",
   "execution_count": null,
   "metadata": {
    "_cell_guid": "c7314eb0-c762-a94b-d795-7e94bd209e9b"
   },
   "outputs": [],
   "source": [
    "pred_scores = []\n",
    "for i in range(2,36):\n",
    "    rfc = RandomForestClassifier(n_estimators=i, random_state=111)\n",
    "    rfc.fit(features_train, labels_train)\n",
    "    pred = rfc.predict(features_test)\n",
    "    pred_scores.append((i, [accuracy_score(labels_test,pred)]))\n",
    "df = pd.DataFrame.from_items(pred_scores,orient='index', columns=['Score'])\n",
    "df.plot(figsize=(11,6))"
   ]
  },
  {
   "cell_type": "code",
   "execution_count": null,
   "metadata": {
    "_cell_guid": "0a38fd32-3ddd-cb02-6d73-1574af668a2a"
   },
   "outputs": [],
   "source": [
    "df[df['Score'] == df['Score'].max()]"
   ]
  },
  {
   "cell_type": "markdown",
   "metadata": {
    "_cell_guid": "33e7f213-b287-8dbb-8c80-e2cfac0e349c"
   },
   "source": [
    "### AdaBoost Classifier"
   ]
  },
  {
   "cell_type": "code",
   "execution_count": null,
   "metadata": {
    "_cell_guid": "b83de774-518e-da27-b890-369d61704f18"
   },
   "outputs": [],
   "source": [
    "pred_scores = []\n",
    "for i in range(25,76):\n",
    "    abc = AdaBoostClassifier(n_estimators=i, random_state=111)\n",
    "    abc.fit(features_train, labels_train)\n",
    "    pred = abc.predict(features_test)\n",
    "    pred_scores.append((i, [accuracy_score(labels_test,pred)]))\n",
    "df = pd.DataFrame.from_items(pred_scores,orient='index', columns=['Score'])\n",
    "df.plot(figsize=(11,6))"
   ]
  },
  {
   "cell_type": "code",
   "execution_count": null,
   "metadata": {
    "_cell_guid": "73b9ce2f-f5b5-e767-b7e5-978348dd1b30"
   },
   "outputs": [],
   "source": [
    "df[df['Score'] == df['Score'].max()]"
   ]
  },
  {
   "cell_type": "markdown",
   "metadata": {
    "_cell_guid": "5d98b05b-92ea-a2a1-cc38-144287dcca5f"
   },
   "source": [
    "### BaggingClassifier"
   ]
  },
  {
   "cell_type": "code",
   "execution_count": null,
   "metadata": {
    "_cell_guid": "75332f17-abc1-3dcd-1bfa-a6b19116ba27"
   },
   "outputs": [],
   "source": [
    "from sklearn.ensemble import BaggingClassifier\n",
    "pred_scores = []\n",
    "for i in range(2,21):\n",
    "    bc = BaggingClassifier(n_estimators=i, random_state=111)\n",
    "    bc.fit(features_train, labels_train)\n",
    "    pred = bc.predict(features_test)\n",
    "    pred_scores.append((i, [accuracy_score(labels_test,pred)]))\n",
    "df = pd.DataFrame.from_items(pred_scores,orient='index', columns=['Score'])\n",
    "df.plot(figsize=(11,6))"
   ]
  },
  {
   "cell_type": "code",
   "execution_count": null,
   "metadata": {
    "_cell_guid": "e6990550-928f-482e-32e3-3989edaed1fd"
   },
   "outputs": [],
   "source": [
    "df[df['Score'] == df['Score'].max()]"
   ]
  },
  {
   "cell_type": "markdown",
   "metadata": {
    "_cell_guid": "9153ac5f-bebd-3059-40a9-e892f73140a0"
   },
   "source": [
    "### ExtraTreesClassifier"
   ]
  },
  {
   "cell_type": "code",
   "execution_count": null,
   "metadata": {
    "_cell_guid": "fe028a82-bea9-c66e-417c-7bb26ef426d5"
   },
   "outputs": [],
   "source": [
    "from sklearn.ensemble import ExtraTreesClassifier\n",
    "pred_scores = []\n",
    "for i in range(2,21):\n",
    "    etc = ExtraTreesClassifier(n_estimators=i, random_state=111)\n",
    "    etc.fit(features_train, labels_train)\n",
    "    pred = etc.predict(features_test)\n",
    "    pred_scores.append((i, [accuracy_score(labels_test,pred)]))\n",
    "df = pd.DataFrame.from_items(pred_scores,orient='index', columns=['Score'])\n",
    "df.plot(figsize=(11,6))"
   ]
  },
  {
   "cell_type": "code",
   "execution_count": null,
   "metadata": {
    "_cell_guid": "7f2c3fc3-bd34-6b73-8c6c-28d891fbddc7"
   },
   "outputs": [],
   "source": [
    "df[df['Score'] == df['Score'].max()]"
   ]
  }
 ],
 "metadata": {
  "_change_revision": 0,
  "_is_fork": false,
  "kernelspec": {
   "display_name": "Python 3",
   "language": "python",
   "name": "python3"
  },
  "language_info": {
   "codemirror_mode": {
    "name": "ipython",
    "version": 3
   },
   "file_extension": ".py",
   "mimetype": "text/x-python",
   "name": "python",
   "nbconvert_exporter": "python",
   "pygments_lexer": "ipython3",
   "version": "3.9.0"
  }
 },
 "nbformat": 4,
 "nbformat_minor": 1
}
